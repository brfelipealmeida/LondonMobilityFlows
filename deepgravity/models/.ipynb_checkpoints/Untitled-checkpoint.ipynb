{
 "cells": [
  {
   "cell_type": "code",
   "execution_count": null,
   "id": "7afee16e-9146-4565-ba98-6107e69e774b",
   "metadata": {},
   "outputs": [],
   "source": [
    "import json\n",
    "import pandas as pd\n",
    "# import geopandas as gpd\n",
    "import shapely\n",
    "import area\n",
    "import numpy as np\n",
    "import random\n",
    "import torch\n",
    "from zipfile import ZipFile\n",
    "from math import sqrt, sin, cos, pi, asin\n",
    "from ast import literal_eval\n",
    "\n",
    "from importlib.machinery import SourceFileLoader\n"
   ]
  },
  {
   "cell_type": "code",
   "execution_count": null,
   "id": "65750439-ebdd-42e6-b82c-b3f9cdedfd14",
   "metadata": {},
   "outputs": [],
   "source": [
    "path = './models/od_models.py'\n",
    "od = SourceFileLoader('od', path).load_module()"
   ]
  },
  {
   "cell_type": "code",
   "execution_count": null,
   "id": "d87cb6f8-1acb-4c88-b6ea-6e7a0bdfa599",
   "metadata": {},
   "outputs": [],
   "source": [
    "def df_to_dict(df):\n",
    "    split = df.to_dict(orient='split')\n",
    "    keys = split['index']\n",
    "    values = split['data']\n",
    "    return {k: v for k, v in zip(keys, values)}"
   ]
  }
 ],
 "metadata": {
  "kernelspec": {
   "display_name": "Python 3 (ipykernel)",
   "language": "python",
   "name": "python3"
  },
  "language_info": {
   "codemirror_mode": {
    "name": "ipython",
    "version": 3
   },
   "file_extension": ".py",
   "mimetype": "text/x-python",
   "name": "python",
   "nbconvert_exporter": "python",
   "pygments_lexer": "ipython3",
   "version": "3.10.5"
  }
 },
 "nbformat": 4,
 "nbformat_minor": 5
}
